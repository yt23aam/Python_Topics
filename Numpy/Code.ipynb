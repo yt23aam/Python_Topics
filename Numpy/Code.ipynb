{
 "cells": [
  {
   "cell_type": "markdown",
   "id": "35de3f51-b01f-46fe-82e6-37743ac585e0",
   "metadata": {},
   "source": [
    "# NumPy\n",
    "\n",
    "Documentation: <k>https://numpy.org/doc/stable/user/</k>"
   ]
  },
  {
   "cell_type": "markdown",
   "id": "75e6b135-e080-4a01-b742-79e1423699b2",
   "metadata": {},
   "source": [
    "<H3>What is NumPy?</H3>\n",
    "\n",
    "It can be used to store 1D array, 2D array, 3D array or n-Dimensional array."
   ]
  },
  {
   "cell_type": "markdown",
   "id": "a7efd82d-451b-4284-8c26-69219bfcf085",
   "metadata": {},
   "source": [
    "<H3>How are Lists different from Numpy?</H3>\n",
    "\n",
    "Numpy is much faster than Lists.\n",
    "\n",
    "Numpy is much faster because:\n",
    "1. Faster to read less bytes of memory.\n",
    "2. No type checking when iterating through objects.\n",
    "3. Numpy uses contiguous memory."
   ]
  },
  {
   "cell_type": "markdown",
   "id": "3ff9bfde-4181-49b9-8af1-a156eeaa4636",
   "metadata": {},
   "source": [
    "<H3>Applications of Numpy</H3>\n",
    "\n",
    "1. Mathematics(MATLAB Replacement)\n",
    "2. Plotting(Matplotlib)\n",
    "3. Backend(Pandas, Connect 4, Digital Photography)\n",
    "4. Machine Learning"
   ]
  },
  {
   "cell_type": "markdown",
   "id": "7a202311-03c8-4bc3-8e51-52cea3fe0f48",
   "metadata": {},
   "source": [
    "<H3>Load in NumPy</H3>"
   ]
  },
  {
   "cell_type": "code",
   "execution_count": 1,
   "id": "184635ed-770c-4f9a-a35b-0a70f8c50c0e",
   "metadata": {},
   "outputs": [],
   "source": [
    "import numpy as np\n",
    "import sys"
   ]
  },
  {
   "cell_type": "markdown",
   "id": "a1bbaeef-9808-4963-82b7-9bf719691503",
   "metadata": {},
   "source": [
    "<H3>The Basics</H3>"
   ]
  },
  {
   "cell_type": "code",
   "execution_count": 3,
   "id": "131c6201-bb86-47c2-b4eb-141edd3fb69f",
   "metadata": {},
   "outputs": [
    {
     "name": "stdout",
     "output_type": "stream",
     "text": [
      "[1 2 3]\n",
      "[[9. 8. 7.]\n",
      " [6. 5. 4.]]\n"
     ]
    }
   ],
   "source": [
    "a = np.array([1,2,3])\n",
    "print(a)\n",
    "\n",
    "b = np.array([[9.0, 8.0, 7.0], [6.0, 5.0, 4.0]])\n",
    "print(b)"
   ]
  },
  {
   "cell_type": "markdown",
   "id": "1fe121b6-cbfc-4548-a7eb-f3465bb831fb",
   "metadata": {},
   "source": [
    "<H5>Some important attributes</H5>\n",
    "\n",
    "1. ndim - Attribute returns the dimension of the array\n",
    "2. shape - Attribute returns the number of element present in each dimension.\n",
    "3. dtype - Attribute returns the datatype of the array\n",
    "4. iteemsize - Attribute returns Length of one array element in bytes\n",
    "5. nbytes - Attribute returns Total bytes consumed by the elements of the array."
   ]
  },
  {
   "cell_type": "code",
   "execution_count": 4,
   "id": "1240fd3a-acc7-4e29-82c0-52e6ba2cc3fe",
   "metadata": {},
   "outputs": [
    {
     "data": {
      "text/plain": [
       "1"
      ]
     },
     "execution_count": 4,
     "metadata": {},
     "output_type": "execute_result"
    }
   ],
   "source": [
    "# Get dimension\n",
    "a.ndim"
   ]
  },
  {
   "cell_type": "code",
   "execution_count": 5,
   "id": "e58c18e9-5e7d-4c63-9adb-5561afad4776",
   "metadata": {},
   "outputs": [
    {
     "data": {
      "text/plain": [
       "(3,)"
      ]
     },
     "execution_count": 5,
     "metadata": {},
     "output_type": "execute_result"
    }
   ],
   "source": [
    "# Get shape\n",
    "a.shape"
   ]
  },
  {
   "cell_type": "code",
   "execution_count": 6,
   "id": "fed2e089-6309-48bc-9547-15d1f3467fbb",
   "metadata": {},
   "outputs": [
    {
     "name": "stdout",
     "output_type": "stream",
     "text": [
      "a type: int32\n",
      "b type: float64\n"
     ]
    }
   ],
   "source": [
    "# Get Type\n",
    "print(f'a type: {a.dtype}')\n",
    "print(f'b type: {b.dtype}')"
   ]
  },
  {
   "cell_type": "code",
   "execution_count": 7,
   "id": "13e0c7dc-57e2-4b85-b761-5e192f416055",
   "metadata": {},
   "outputs": [
    {
     "data": {
      "text/plain": [
       "4"
      ]
     },
     "execution_count": 7,
     "metadata": {},
     "output_type": "execute_result"
    }
   ],
   "source": [
    "# Get size\n",
    "a.itemsize"
   ]
  },
  {
   "cell_type": "code",
   "execution_count": 8,
   "id": "6d415ebf-44a3-4342-ac6b-8ae0d4c529c5",
   "metadata": {},
   "outputs": [
    {
     "data": {
      "text/plain": [
       "12"
      ]
     },
     "execution_count": 8,
     "metadata": {},
     "output_type": "execute_result"
    }
   ],
   "source": [
    "# Get total size\n",
    "a.nbytes"
   ]
  },
  {
   "cell_type": "markdown",
   "id": "d87100da-f788-477e-b402-bcfd34148400",
   "metadata": {},
   "source": [
    "<H3>Accessing/Changing specific elements, rows, columns, etc.</H3>\n",
    "\n",
    "1. Indexing starts from 0.\n",
    "2. Get a specific element [r, c]\n",
    "3. Get a specific row [r, :]\n",
    "4. Get a specific column [:, c]\n",
    "5. Get some fancied set of elements [start_index:end_index:step_size]\n",
    "6. It also supports negative indexing(last index is -N where N is the length of the array).\n",
    "7. Be Careful when dealing with n-Dimensional arrays."
   ]
  },
  {
   "cell_type": "code",
   "execution_count": 9,
   "id": "4bcd6d4a-860c-4774-a3e4-9e6cfc28d987",
   "metadata": {},
   "outputs": [
    {
     "name": "stdout",
     "output_type": "stream",
     "text": [
      "[[ 1  2  3  4  5  6  7]\n",
      " [ 8  9 10 11 12 13 14]]\n"
     ]
    }
   ],
   "source": [
    "a = np.array([[1,2,3,4,5,6,7],[8,9,10,11,12,13,14]])\n",
    "print(a)"
   ]
  },
  {
   "cell_type": "code",
   "execution_count": 10,
   "id": "23fd7b01-8eb8-4434-b381-26d92dc87887",
   "metadata": {},
   "outputs": [
    {
     "data": {
      "text/plain": [
       "13"
      ]
     },
     "execution_count": 10,
     "metadata": {},
     "output_type": "execute_result"
    }
   ],
   "source": [
    "# Get a specific element [r, c]\n",
    "a[1, 5]"
   ]
  },
  {
   "cell_type": "code",
   "execution_count": 11,
   "id": "b65b96e8-d9a7-4dff-8bf4-a98975408990",
   "metadata": {},
   "outputs": [
    {
     "data": {
      "text/plain": [
       "array([1, 2, 3, 4, 5, 6, 7])"
      ]
     },
     "execution_count": 11,
     "metadata": {},
     "output_type": "execute_result"
    }
   ],
   "source": [
    "# Get a specific row\n",
    "a[0, :]"
   ]
  },
  {
   "cell_type": "code",
   "execution_count": 12,
   "id": "9d8c3777-87be-4681-9c4d-8a9f0f229ded",
   "metadata": {},
   "outputs": [
    {
     "data": {
      "text/plain": [
       "array([ 3, 10])"
      ]
     },
     "execution_count": 12,
     "metadata": {},
     "output_type": "execute_result"
    }
   ],
   "source": [
    "# Get a specific column\n",
    "a[:, 2]"
   ]
  },
  {
   "cell_type": "code",
   "execution_count": 14,
   "id": "efbdbc80-7567-4ff2-9630-1c392665447b",
   "metadata": {},
   "outputs": [
    {
     "data": {
      "text/plain": [
       "array([2, 4, 6])"
      ]
     },
     "execution_count": 14,
     "metadata": {},
     "output_type": "execute_result"
    }
   ],
   "source": [
    "# Getting a little more fancy [start_index:end_index:stepsize]\n",
    "a[0, 1:6:2]"
   ]
  },
  {
   "cell_type": "code",
   "execution_count": 15,
   "id": "dc54c47f-4535-4d8e-83f3-bd18cf3fe887",
   "metadata": {},
   "outputs": [
    {
     "name": "stdout",
     "output_type": "stream",
     "text": [
      "[[ 1  2  3  4  5  6  7]\n",
      " [ 8  9 10 11 12 20 14]]\n",
      "[[ 1  2  1  4  5  6  7]\n",
      " [ 8  9  2 11 12 20 14]]\n"
     ]
    }
   ],
   "source": [
    "a[1,5] = 20\n",
    "print(a)\n",
    "\n",
    "a[:,2] = [1,2]\n",
    "print(a)"
   ]
  },
  {
   "cell_type": "code",
   "execution_count": 16,
   "id": "e6eeaf31-a569-4333-8687-6ae510119de6",
   "metadata": {},
   "outputs": [
    {
     "name": "stdout",
     "output_type": "stream",
     "text": [
      "[[[1 2]\n",
      "  [3 4]]\n",
      "\n",
      " [[5 6]\n",
      "  [7 8]]]\n"
     ]
    }
   ],
   "source": [
    "# 3-D example\n",
    "\n",
    "b = np.array([[[1,2],[3,4]],[[5,6],[7,8]]])\n",
    "print(b)"
   ]
  },
  {
   "cell_type": "code",
   "execution_count": 17,
   "id": "aecfb1aa-67ab-4a83-937f-8960c5f1d5f3",
   "metadata": {},
   "outputs": [
    {
     "data": {
      "text/plain": [
       "4"
      ]
     },
     "execution_count": 17,
     "metadata": {},
     "output_type": "execute_result"
    }
   ],
   "source": [
    "# Get specific element (work outside in)\n",
    "b[0,1,1]"
   ]
  },
  {
   "cell_type": "code",
   "execution_count": 19,
   "id": "45ea093c-185f-45f8-aed5-b1ea05f049a2",
   "metadata": {},
   "outputs": [
    {
     "name": "stdout",
     "output_type": "stream",
     "text": [
      "[[[1 2]\n",
      "  [9 9]]\n",
      "\n",
      " [[5 6]\n",
      "  [8 8]]]\n"
     ]
    }
   ],
   "source": [
    "# replace\n",
    "b[:,1,:] = [[9,9], [8,8]]\n",
    "print(b)"
   ]
  },
  {
   "cell_type": "markdown",
   "id": "a06efc84-7355-4a08-a8b0-ee061a30d7ef",
   "metadata": {},
   "source": [
    "<H3>Initializing Different Types of Arrays</H3>\n",
    "\n",
    "1. All zeros matrix - <b>np.zeros(shape of the array)</b>\n",
    "2. All ones matrix - <b>np.ones(shape of the array)</b>\n",
    "3. All values a single number - <b>np.full(shape of the array, number to be filled in all)</b>\n",
    "4. A full array with the same shape and type as a given array - <b>np.full_like(array, number)</b>\n",
    "\n",
    "5. Random array(values between 0 to 1) with rows and columns - <b>np.random.rand(r, c)</b>\n",
    "6. Random array(values between 0 to 1) with shape of the array - <b>np.random.random_sample(shape of the array)</b>\n",
    "7. Random integer array(values between low and high) - <b>np.random.randint(low,high, size=(shape of the array))</b> where high is exclusive and when only one integer is provided for the parameters other than the size then it will considered as high value.\n",
    "\n",
    "8. A identity matrix of N order - <b>np.identity(n)</b> where N is natural number greater than zero.\n",
    "9. Repeat an array - <b>np.repeat(array, no_of_times, axis={0 or 1})</b> axis=0: Repeats elements along the rows (vertically). If you apply np.repeat to a 2D array with axis=0, each row will be duplicated as specified.  axis=1: Repeats elements along the columns (horizontally). If used on a 2D array, each element in a row gets repeated, increasing the number of columns.\n"
   ]
  },
  {
   "cell_type": "code",
   "execution_count": 21,
   "id": "fd357893-e3b6-47c5-ac90-14cd9127a979",
   "metadata": {},
   "outputs": [
    {
     "data": {
      "text/plain": [
       "array([[0., 0., 0.],\n",
       "       [0., 0., 0.]])"
      ]
     },
     "execution_count": 21,
     "metadata": {},
     "output_type": "execute_result"
    }
   ],
   "source": [
    "# All 0s matrix\n",
    "np.zeros((2,3))"
   ]
  },
  {
   "cell_type": "code",
   "execution_count": 22,
   "id": "928c4649-2888-47e2-b605-b34373bb30ca",
   "metadata": {},
   "outputs": [
    {
     "data": {
      "text/plain": [
       "array([[[1, 1],\n",
       "        [1, 1]],\n",
       "\n",
       "       [[1, 1],\n",
       "        [1, 1]],\n",
       "\n",
       "       [[1, 1],\n",
       "        [1, 1]],\n",
       "\n",
       "       [[1, 1],\n",
       "        [1, 1]]])"
      ]
     },
     "execution_count": 22,
     "metadata": {},
     "output_type": "execute_result"
    }
   ],
   "source": [
    "# All 1s matrix\n",
    "np.ones((4,2,2), dtype='int32')"
   ]
  },
  {
   "cell_type": "code",
   "execution_count": 23,
   "id": "00d1a453-9772-442f-af5c-b4668e662f55",
   "metadata": {},
   "outputs": [
    {
     "data": {
      "text/plain": [
       "array([[5, 5],\n",
       "       [5, 5]])"
      ]
     },
     "execution_count": 23,
     "metadata": {},
     "output_type": "execute_result"
    }
   ],
   "source": [
    "# Any other number\n",
    "np.full((2,2), 5)"
   ]
  },
  {
   "cell_type": "code",
   "execution_count": 24,
   "id": "a7ffc8cb-8570-4bee-b470-c655cd854502",
   "metadata": {},
   "outputs": [
    {
     "data": {
      "text/plain": [
       "array([[4, 4, 4, 4, 4, 4, 4],\n",
       "       [4, 4, 4, 4, 4, 4, 4]])"
      ]
     },
     "execution_count": 24,
     "metadata": {},
     "output_type": "execute_result"
    }
   ],
   "source": [
    "# Any other number (full_like) special case\n",
    "np.full_like(a, 4)"
   ]
  },
  {
   "cell_type": "code",
   "execution_count": 27,
   "id": "fc277042-429f-46ae-9459-3eed98c2022c",
   "metadata": {},
   "outputs": [
    {
     "data": {
      "text/plain": [
       "array([[0.5707351 , 0.30324427],\n",
       "       [0.32621952, 0.0675638 ],\n",
       "       [0.86403657, 0.42883195],\n",
       "       [0.88750991, 0.18755744]])"
      ]
     },
     "execution_count": 27,
     "metadata": {},
     "output_type": "execute_result"
    }
   ],
   "source": [
    "# Random decimal numbers(passing rows and columns)\n",
    "np.random.rand(4,2)"
   ]
  },
  {
   "cell_type": "code",
   "execution_count": 28,
   "id": "efa647d2-d663-4a4e-b9fc-8e39152e6cd4",
   "metadata": {},
   "outputs": [
    {
     "data": {
      "text/plain": [
       "array([[0.34571794, 0.64119821, 0.90029171, 0.8951102 , 0.0598117 ,\n",
       "        0.15058284, 0.29026144],\n",
       "       [0.46437939, 0.09560873, 0.85783289, 0.77918136, 0.8003194 ,\n",
       "        0.87254542, 0.33748797]])"
      ]
     },
     "execution_count": 28,
     "metadata": {},
     "output_type": "execute_result"
    }
   ],
   "source": [
    "# Random decimal numbers(passing shape of a array)\n",
    "np.random.random_sample(a.shape)"
   ]
  },
  {
   "cell_type": "code",
   "execution_count": 31,
   "id": "45ea3e20-ace6-4687-8073-a01a30902df2",
   "metadata": {},
   "outputs": [
    {
     "data": {
      "text/plain": [
       "array([[7, 5, 6],\n",
       "       [5, 5, 7],\n",
       "       [2, 8, 4]])"
      ]
     },
     "execution_count": 31,
     "metadata": {},
     "output_type": "execute_result"
    }
   ],
   "source": [
    "# Random integer values\n",
    "np.random.randint(10, size=(3,3))"
   ]
  },
  {
   "cell_type": "code",
   "execution_count": 32,
   "id": "8c71338b-7cd2-404c-a7ec-53156c425719",
   "metadata": {},
   "outputs": [
    {
     "data": {
      "text/plain": [
       "array([[1., 0., 0., 0., 0.],\n",
       "       [0., 1., 0., 0., 0.],\n",
       "       [0., 0., 1., 0., 0.],\n",
       "       [0., 0., 0., 1., 0.],\n",
       "       [0., 0., 0., 0., 1.]])"
      ]
     },
     "execution_count": 32,
     "metadata": {},
     "output_type": "execute_result"
    }
   ],
   "source": [
    "# Main diagonal elements with 1 and others 0 i.e a identity matrix of order N\n",
    "np.identity(5)"
   ]
  },
  {
   "cell_type": "code",
   "execution_count": 35,
   "id": "81ec07bc-ea14-4fef-8be6-fbb0cfcbc62f",
   "metadata": {},
   "outputs": [
    {
     "name": "stdout",
     "output_type": "stream",
     "text": [
      "Repeat along axis=0(row)\n",
      "[[1 2 3]\n",
      " [1 2 3]\n",
      " [1 2 3]]\n",
      "\n",
      "Repeat along axis=1(column)\n",
      "[[1 1 1 2 2 2 3 3 3]]\n"
     ]
    }
   ],
   "source": [
    "# repeat an array\n",
    "arr = np.array([[1, 2, 3]])\n",
    "r1 = np.repeat(arr,3, axis=0)\n",
    "r2 = np.repeat(arr,3,axis=1)\n",
    "\n",
    "print(\"Repeat along axis=0(row)\")\n",
    "print(r1)\n",
    "print(\"\\nRepeat along axis=1(column)\")\n",
    "print(r2)"
   ]
  },
  {
   "cell_type": "markdown",
   "id": "46f9b9c9-0767-4174-9dce-148b30103f20",
   "metadata": {},
   "source": [
    "<H3>\n",
    "    Question 1:\n",
    "    \n",
    "    Create a matrix as shown below\n",
    "</H3>\n",
    "\n",
    "<Table>\n",
    "    <tr>\n",
    "        <td>1</td>\n",
    "        <td>1</td>\n",
    "        <td>1</td>\n",
    "        <td>1</td>\n",
    "        <td>1</td>\n",
    "    </tr>\n",
    "    <tr>\n",
    "        <td>1</td>\n",
    "        <td>0</td>\n",
    "        <td>0</td>\n",
    "        <td>0</td>\n",
    "        <td>1</td>\n",
    "    </tr>\n",
    "    <tr>\n",
    "        <td>1</td>\n",
    "        <td>0</td>\n",
    "        <td>9</td>\n",
    "        <td>0</td>\n",
    "        <td>1</td>\n",
    "    </tr>\n",
    "    <tr>\n",
    "        <td>1</td>\n",
    "        <td>0</td>\n",
    "        <td>0</td>\n",
    "        <td>0</td>\n",
    "        <td>1</td>\n",
    "    </tr>\n",
    "    <tr>\n",
    "        <td>1</td>\n",
    "        <td>1</td>\n",
    "        <td>1</td>\n",
    "        <td>1</td>\n",
    "        <td>1</td>\n",
    "    </tr>\n",
    "</Table>"
   ]
  },
  {
   "cell_type": "code",
   "execution_count": 43,
   "id": "181f9853-8ce6-4edf-aafd-9db0decbe1ca",
   "metadata": {},
   "outputs": [
    {
     "name": "stdout",
     "output_type": "stream",
     "text": [
      "[[1 1 1 1 1]\n",
      " [1 0 0 0 1]\n",
      " [1 0 9 0 1]\n",
      " [1 0 0 0 1]\n",
      " [1 1 1 1 1]]\n"
     ]
    }
   ],
   "source": [
    "a = np.ones((5,5), dtype='int16')\n",
    "a[1:4,1:4] = 0\n",
    "a[2,2] = 9\n",
    "print(a)"
   ]
  },
  {
   "cell_type": "markdown",
   "id": "e3792b0d-64e4-43bc-8954-747441c33da2",
   "metadata": {},
   "source": [
    "<H3>Be careful when copying arrays</H3>\n",
    "\n",
    "It is because when you declare b=a, then you're both are referencing the same. so, any change on one is directly affects the other. If you want to create a copy then use copy method."
   ]
  },
  {
   "cell_type": "markdown",
   "id": "277c1d33-dcd4-4422-9fd9-cea523cbe14b",
   "metadata": {},
   "source": [
    "<H3>Mathematics</H3>\n",
    "\n",
    "For a lot more (<k>https://docs.scipy.org/doc/numpy/reference/routines.math.html</k>)"
   ]
  },
  {
   "cell_type": "code",
   "execution_count": 45,
   "id": "0463800c-732b-4da2-ac39-c05e2e9e9caa",
   "metadata": {},
   "outputs": [
    {
     "name": "stdout",
     "output_type": "stream",
     "text": [
      "[1 2 3 4]\n"
     ]
    }
   ],
   "source": [
    "a = np.array([1,2,3,4])\n",
    "print(a)"
   ]
  },
  {
   "cell_type": "code",
   "execution_count": 46,
   "id": "9b632d79-9241-4eba-99ee-2125a2a078ad",
   "metadata": {},
   "outputs": [
    {
     "data": {
      "text/plain": [
       "array([3, 4, 5, 6])"
      ]
     },
     "execution_count": 46,
     "metadata": {},
     "output_type": "execute_result"
    }
   ],
   "source": [
    "a + 2"
   ]
  },
  {
   "cell_type": "code",
   "execution_count": 47,
   "id": "4572a9d0-d808-4460-a210-389e88764069",
   "metadata": {},
   "outputs": [
    {
     "data": {
      "text/plain": [
       "array([-1,  0,  1,  2])"
      ]
     },
     "execution_count": 47,
     "metadata": {},
     "output_type": "execute_result"
    }
   ],
   "source": [
    "a - 2"
   ]
  },
  {
   "cell_type": "code",
   "execution_count": 48,
   "id": "896ab85f-3675-4c86-9961-165acf64048b",
   "metadata": {},
   "outputs": [
    {
     "data": {
      "text/plain": [
       "array([2, 4, 6, 8])"
      ]
     },
     "execution_count": 48,
     "metadata": {},
     "output_type": "execute_result"
    }
   ],
   "source": [
    "a * 2"
   ]
  },
  {
   "cell_type": "code",
   "execution_count": 49,
   "id": "a2d3bd63-45e0-4fdd-81c8-d24abce6696d",
   "metadata": {},
   "outputs": [
    {
     "data": {
      "text/plain": [
       "array([0.5, 1. , 1.5, 2. ])"
      ]
     },
     "execution_count": 49,
     "metadata": {},
     "output_type": "execute_result"
    }
   ],
   "source": [
    "a / 2"
   ]
  },
  {
   "cell_type": "code",
   "execution_count": 50,
   "id": "09f7ee2a-1541-46b3-9cea-3197cc65e295",
   "metadata": {},
   "outputs": [
    {
     "data": {
      "text/plain": [
       "array([2, 2, 4, 4])"
      ]
     },
     "execution_count": 50,
     "metadata": {},
     "output_type": "execute_result"
    }
   ],
   "source": [
    "b = np.array([1,0,1,0])\n",
    "a+b"
   ]
  },
  {
   "cell_type": "code",
   "execution_count": 51,
   "id": "91bc156e-8afa-4b1a-bc66-5207f9a56932",
   "metadata": {},
   "outputs": [
    {
     "data": {
      "text/plain": [
       "array([ 1,  4,  9, 16])"
      ]
     },
     "execution_count": 51,
     "metadata": {},
     "output_type": "execute_result"
    }
   ],
   "source": [
    "a ** 2"
   ]
  },
  {
   "cell_type": "code",
   "execution_count": 52,
   "id": "374fa569-63d9-4d65-8427-7c2d419e7cc3",
   "metadata": {},
   "outputs": [
    {
     "data": {
      "text/plain": [
       "array([ 0.84147098,  0.90929743,  0.14112001, -0.7568025 ])"
      ]
     },
     "execution_count": 52,
     "metadata": {},
     "output_type": "execute_result"
    }
   ],
   "source": [
    "# Take sin\n",
    "np.sin(a)"
   ]
  },
  {
   "cell_type": "code",
   "execution_count": 53,
   "id": "a075e8ac-5f7b-4a22-8335-79b750f528db",
   "metadata": {},
   "outputs": [
    {
     "data": {
      "text/plain": [
       "array([ 0.54030231, -0.41614684, -0.9899925 , -0.65364362])"
      ]
     },
     "execution_count": 53,
     "metadata": {},
     "output_type": "execute_result"
    }
   ],
   "source": [
    "np.cos(a)"
   ]
  },
  {
   "cell_type": "markdown",
   "id": "1fc772ea-858a-41d9-8879-32bf13471716",
   "metadata": {},
   "source": [
    "<h3>Linear Algebra</h3>\n",
    "\n",
    "1. <b>np.matmul(a,b)</b> - Matrix multiplication\n",
    "2. <b>np.linalg.det(matrix)</b> - Determinant of a \n",
    "\n",
    "Reference docs (<k>https://docs.scipy.org/doc/numpy/reference/routines.linalg.html</k>)\n",
    "\n",
    "1. Determinant\n",
    "2. Trace\n",
    "3. Singular Vector Decomposition\n",
    "4. Eigen values\n",
    "5. Matrix normalization\n",
    "6. Inverse\n",
    "etc."
   ]
  },
  {
   "cell_type": "code",
   "execution_count": 54,
   "id": "84dbc477-f6d1-4ac2-93a8-990d6f932c97",
   "metadata": {},
   "outputs": [
    {
     "name": "stdout",
     "output_type": "stream",
     "text": [
      "[[1. 1. 1.]\n",
      " [1. 1. 1.]]\n",
      "[[2 2]\n",
      " [2 2]\n",
      " [2 2]]\n"
     ]
    },
    {
     "data": {
      "text/plain": [
       "array([[6., 6.],\n",
       "       [6., 6.]])"
      ]
     },
     "execution_count": 54,
     "metadata": {},
     "output_type": "execute_result"
    }
   ],
   "source": [
    "a = np.ones((2,3))\n",
    "print(a)\n",
    "\n",
    "b = np.full((3,2),2)\n",
    "print(b)\n",
    "\n",
    "np.matmul(a,b)"
   ]
  },
  {
   "cell_type": "code",
   "execution_count": 55,
   "id": "3b219ee1-3f64-448d-8c34-c12a07c05384",
   "metadata": {},
   "outputs": [
    {
     "data": {
      "text/plain": [
       "1.0"
      ]
     },
     "execution_count": 55,
     "metadata": {},
     "output_type": "execute_result"
    }
   ],
   "source": [
    "# find the determinant of matrix\n",
    "c = np.identity(3)\n",
    "np.linalg.det(c)"
   ]
  },
  {
   "cell_type": "markdown",
   "id": "8cee5f9f-b121-4163-a4fb-73862039aed8",
   "metadata": {},
   "source": [
    "<h3> Statistics</h3>\n",
    "\n",
    "1. For row-wise operations, use axis=1.\n",
    "2. For column-wise operations, use axis=0."
   ]
  },
  {
   "cell_type": "code",
   "execution_count": 56,
   "id": "ad88fa78-729e-4ff3-b3d1-5ae2d77d5afd",
   "metadata": {},
   "outputs": [
    {
     "data": {
      "text/plain": [
       "array([[1, 2, 3],\n",
       "       [4, 5, 6]])"
      ]
     },
     "execution_count": 56,
     "metadata": {},
     "output_type": "execute_result"
    }
   ],
   "source": [
    "stats = np.array([[1,2,3],[4,5,6]])\n",
    "stats"
   ]
  },
  {
   "cell_type": "code",
   "execution_count": 60,
   "id": "f40e2ed7-6b1f-427b-a1cb-31af5d4106b8",
   "metadata": {},
   "outputs": [
    {
     "name": "stdout",
     "output_type": "stream",
     "text": [
      "1 6\n"
     ]
    }
   ],
   "source": [
    "# max and min in the array\n",
    "print(np.min(stats), np.max(stats))"
   ]
  },
  {
   "cell_type": "code",
   "execution_count": 61,
   "id": "9eb52226-bc66-4c35-93e6-2bd661a76d40",
   "metadata": {},
   "outputs": [
    {
     "data": {
      "text/plain": [
       "array([1, 4])"
      ]
     },
     "execution_count": 61,
     "metadata": {},
     "output_type": "execute_result"
    }
   ],
   "source": [
    "# min in each row\n",
    "np.min(stats, axis=1)"
   ]
  },
  {
   "cell_type": "code",
   "execution_count": 62,
   "id": "b9cab477-dfdb-4662-9c34-17fc76c0b0d3",
   "metadata": {},
   "outputs": [
    {
     "data": {
      "text/plain": [
       "array([1, 2, 3])"
      ]
     },
     "execution_count": 62,
     "metadata": {},
     "output_type": "execute_result"
    }
   ],
   "source": [
    "# min in each column\n",
    "np.min(stats, axis=0)"
   ]
  },
  {
   "cell_type": "markdown",
   "id": "223fdf17-8587-4388-9843-ce6a601a47c5",
   "metadata": {},
   "source": [
    "<h3>Reorganizing Arrays</h3>\n",
    "\n",
    "1. <b>array.reshape(new shape for the array)</b> - returns changed array according to the given shape.\n",
    "2. <b>np.vstack(a,b)</b> - returns a combined array with a on top of b. This is also same as np.contcatenate() with axis=0.\n",
    "3. <b>np.hstack(a,b)</b> - returns a combined array with a on front of b. This is also same as np.contcatenate() with axis=1."
   ]
  },
  {
   "cell_type": "code",
   "execution_count": 64,
   "id": "d86ecd54-5a31-48c9-b39b-f18773e37671",
   "metadata": {},
   "outputs": [
    {
     "name": "stdout",
     "output_type": "stream",
     "text": [
      "[[1 2 3 4]\n",
      " [5 6 7 8]]\n",
      "[[[1 2]\n",
      "  [3 4]]\n",
      "\n",
      " [[5 6]\n",
      "  [7 8]]]\n"
     ]
    }
   ],
   "source": [
    "before = np.array([[1,2,3,4],[5,6,7,8]])\n",
    "print(before)\n",
    "\n",
    "after = before.reshape((2,2,2))\n",
    "print(after)"
   ]
  },
  {
   "cell_type": "code",
   "execution_count": 66,
   "id": "5c60567a-c4b4-4b4d-adcd-8c5dca605896",
   "metadata": {},
   "outputs": [
    {
     "data": {
      "text/plain": [
       "array([[1, 2, 3, 4],\n",
       "       [5, 6, 7, 8]])"
      ]
     },
     "execution_count": 66,
     "metadata": {},
     "output_type": "execute_result"
    }
   ],
   "source": [
    "# vertically stacking vectors\n",
    "v1 = np.array([1,2,3,4])\n",
    "v2 = np.array([5,6,7,8])\n",
    "\n",
    "np.vstack([v1,v2])"
   ]
  },
  {
   "cell_type": "code",
   "execution_count": 67,
   "id": "c7ca2d5d-62ef-4106-b36e-0b1720186e88",
   "metadata": {},
   "outputs": [
    {
     "data": {
      "text/plain": [
       "array([[1., 1., 1., 1., 0., 0.],\n",
       "       [1., 1., 1., 1., 0., 0.]])"
      ]
     },
     "execution_count": 67,
     "metadata": {},
     "output_type": "execute_result"
    }
   ],
   "source": [
    "# horizontal stacking vectors\n",
    "h1 = np.ones((2,4))\n",
    "h2 = np.zeros((2,2))\n",
    "\n",
    "np.hstack([h1,h2])"
   ]
  },
  {
   "cell_type": "markdown",
   "id": "c12d1166-fbb9-4480-945f-c79c96cc7401",
   "metadata": {},
   "source": [
    "<h3>Miscellaneous</h3>\n",
    "\n",
    "<h4>Load Data from file</h4>"
   ]
  },
  {
   "cell_type": "code",
   "execution_count": 72,
   "id": "78c7411c-8fca-4896-80d3-2051d5eb2aa2",
   "metadata": {},
   "outputs": [
    {
     "data": {
      "text/plain": [
       "array([[  1,  13,  21,  11, 196,  75,   4,   3,  34,   6,   7,   8,   0,\n",
       "          1,   2,   3,   4,   5],\n",
       "       [  3,  42,  12,  33, 766,  75,   4,  55,   6,   4,   3,   4,   5,\n",
       "          6,   7,   0,  11,  12],\n",
       "       [  1,  22,  33,  11, 999,  11,   2,   1,  78,   0,   1,   2,   9,\n",
       "          8,   7,   1,  76,  88]])"
      ]
     },
     "execution_count": 72,
     "metadata": {},
     "output_type": "execute_result"
    }
   ],
   "source": [
    "filedata = np.genfromtxt('data.txt', delimiter=',')\n",
    "filedata = filedata.astype('int32')\n",
    "filedata"
   ]
  },
  {
   "cell_type": "markdown",
   "id": "a49187d5-9663-4b84-b26f-79049802a2d8",
   "metadata": {},
   "source": [
    "<h4>Boolean Masking and Advanced Indexing</h4>"
   ]
  },
  {
   "cell_type": "code",
   "execution_count": 75,
   "id": "62c4f745-6b1b-49c1-8188-4670c0fa14a2",
   "metadata": {},
   "outputs": [
    {
     "data": {
      "text/plain": [
       "array([196,  75, 766,  75,  55, 999,  78,  76,  88])"
      ]
     },
     "execution_count": 75,
     "metadata": {},
     "output_type": "execute_result"
    }
   ],
   "source": [
    "filedata[filedata > 50]"
   ]
  },
  {
   "cell_type": "code",
   "execution_count": 76,
   "id": "5be60164-d7b2-4577-8513-119232b22ef3",
   "metadata": {},
   "outputs": [
    {
     "data": {
      "text/plain": [
       "array([2, 3, 9])"
      ]
     },
     "execution_count": 76,
     "metadata": {},
     "output_type": "execute_result"
    }
   ],
   "source": [
    "# you can index with a list in numpy\n",
    "a = np.array([1,2,3,4,5,6,7,8,9])\n",
    "a[[1,2,8]]"
   ]
  },
  {
   "cell_type": "code",
   "execution_count": 77,
   "id": "b4c0f4e2-44aa-4163-bb46-78169993688f",
   "metadata": {},
   "outputs": [
    {
     "data": {
      "text/plain": [
       "array([False, False, False, False,  True,  True, False,  True,  True,\n",
       "       False, False, False, False, False, False, False,  True,  True])"
      ]
     },
     "execution_count": 77,
     "metadata": {},
     "output_type": "execute_result"
    }
   ],
   "source": [
    "np.any(filedata > 50, axis=0)"
   ]
  },
  {
   "cell_type": "code",
   "execution_count": 78,
   "id": "d9f0667a-275d-4df0-bf36-5cf49430bf2f",
   "metadata": {},
   "outputs": [
    {
     "data": {
      "text/plain": [
       "array([False, False, False, False,  True, False, False, False, False,\n",
       "       False, False, False, False, False, False, False, False, False])"
      ]
     },
     "execution_count": 78,
     "metadata": {},
     "output_type": "execute_result"
    }
   ],
   "source": [
    "np.all(filedata > 50, axis=0)"
   ]
  },
  {
   "cell_type": "code",
   "execution_count": 79,
   "id": "ee69c37e-7ba3-48a3-98e8-09a5cfab5a0f",
   "metadata": {},
   "outputs": [
    {
     "data": {
      "text/plain": [
       "array([[False, False, False, False, False,  True, False, False, False,\n",
       "        False, False, False, False, False, False, False, False, False],\n",
       "       [False, False, False, False, False,  True, False,  True, False,\n",
       "        False, False, False, False, False, False, False, False, False],\n",
       "       [False, False, False, False, False, False, False, False,  True,\n",
       "        False, False, False, False, False, False, False,  True,  True]])"
      ]
     },
     "execution_count": 79,
     "metadata": {},
     "output_type": "execute_result"
    }
   ],
   "source": [
    "((filedata > 50) & (filedata < 100))"
   ]
  },
  {
   "cell_type": "code",
   "execution_count": 80,
   "id": "b1d7c898-0e25-4b2a-96cc-abd87853561e",
   "metadata": {},
   "outputs": [
    {
     "data": {
      "text/plain": [
       "array([[ True,  True,  True,  True,  True, False,  True,  True,  True,\n",
       "         True,  True,  True,  True,  True,  True,  True,  True,  True],\n",
       "       [ True,  True,  True,  True,  True, False,  True, False,  True,\n",
       "         True,  True,  True,  True,  True,  True,  True,  True,  True],\n",
       "       [ True,  True,  True,  True,  True,  True,  True,  True, False,\n",
       "         True,  True,  True,  True,  True,  True,  True, False, False]])"
      ]
     },
     "execution_count": 80,
     "metadata": {},
     "output_type": "execute_result"
    }
   ],
   "source": [
    "~((filedata > 50) & (filedata < 100))"
   ]
  },
  {
   "cell_type": "code",
   "execution_count": null,
   "id": "ac065ad2-6056-4a5c-a12b-398cf660a59b",
   "metadata": {},
   "outputs": [],
   "source": []
  }
 ],
 "metadata": {
  "kernelspec": {
   "display_name": "Python 3 (ipykernel)",
   "language": "python",
   "name": "python3"
  },
  "language_info": {
   "codemirror_mode": {
    "name": "ipython",
    "version": 3
   },
   "file_extension": ".py",
   "mimetype": "text/x-python",
   "name": "python",
   "nbconvert_exporter": "python",
   "pygments_lexer": "ipython3",
   "version": "3.10.13"
  }
 },
 "nbformat": 4,
 "nbformat_minor": 5
}
